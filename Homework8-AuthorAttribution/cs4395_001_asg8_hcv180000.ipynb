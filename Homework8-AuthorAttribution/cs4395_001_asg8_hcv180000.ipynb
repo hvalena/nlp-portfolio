{
  "nbformat": 4,
  "nbformat_minor": 0,
  "metadata": {
    "colab": {
      "provenance": []
    },
    "kernelspec": {
      "name": "python3",
      "display_name": "Python 3"
    },
    "language_info": {
      "name": "python"
    }
  },
  "cells": [
    {
      "cell_type": "markdown",
      "source": [
        "# Author Attribution\n",
        "Assignment 8  \n",
        "CS 4395.001: Human Language Technologies  \n",
        "Hannah Valena: HCV180000\n",
        "\n"
      ],
      "metadata": {
        "id": "N0R6upRJRWE5"
      }
    },
    {
      "cell_type": "markdown",
      "source": [
        "1. Read in the csv file using pandas. Convert the author column to categorical data. Display the first\n",
        "few rows. Display the counts by author. "
      ],
      "metadata": {
        "id": "KPsOOtXAJdBJ"
      }
    },
    {
      "cell_type": "code",
      "source": [
        "import pandas as pd\n",
        "\n",
        "# read in csv to dataframe\n",
        "url = 'https://raw.githubusercontent.com/hvalena/nlp-portfolio/main/Homework8-AuthorAttribution/federalist.csv'\n",
        "df = pd.read_csv(url)\n",
        "\n",
        "# convert author column to categorical data\n",
        "df['author'] = df.author.astype('category')\n",
        "\n",
        "# display first few rows\n",
        "df.head()"
      ],
      "metadata": {
        "colab": {
          "base_uri": "https://localhost:8080/",
          "height": 206
        },
        "id": "EwKTZzsnnGh5",
        "outputId": "066921aa-1c68-434b-d9ba-8baf34164ebc"
      },
      "execution_count": null,
      "outputs": [
        {
          "output_type": "execute_result",
          "data": {
            "text/plain": [
              "     author                                               text\n",
              "0  HAMILTON  FEDERALIST. No. 1 General Introduction For the...\n",
              "1       JAY  FEDERALIST No. 2 Concerning Dangers from Forei...\n",
              "2       JAY  FEDERALIST No. 3 The Same Subject Continued (C...\n",
              "3       JAY  FEDERALIST No. 4 The Same Subject Continued (C...\n",
              "4       JAY  FEDERALIST No. 5 The Same Subject Continued (C..."
            ],
            "text/html": [
              "\n",
              "  <div id=\"df-d3ff6fb9-d496-4fa3-bb65-012d5f06bf35\">\n",
              "    <div class=\"colab-df-container\">\n",
              "      <div>\n",
              "<style scoped>\n",
              "    .dataframe tbody tr th:only-of-type {\n",
              "        vertical-align: middle;\n",
              "    }\n",
              "\n",
              "    .dataframe tbody tr th {\n",
              "        vertical-align: top;\n",
              "    }\n",
              "\n",
              "    .dataframe thead th {\n",
              "        text-align: right;\n",
              "    }\n",
              "</style>\n",
              "<table border=\"1\" class=\"dataframe\">\n",
              "  <thead>\n",
              "    <tr style=\"text-align: right;\">\n",
              "      <th></th>\n",
              "      <th>author</th>\n",
              "      <th>text</th>\n",
              "    </tr>\n",
              "  </thead>\n",
              "  <tbody>\n",
              "    <tr>\n",
              "      <th>0</th>\n",
              "      <td>HAMILTON</td>\n",
              "      <td>FEDERALIST. No. 1 General Introduction For the...</td>\n",
              "    </tr>\n",
              "    <tr>\n",
              "      <th>1</th>\n",
              "      <td>JAY</td>\n",
              "      <td>FEDERALIST No. 2 Concerning Dangers from Forei...</td>\n",
              "    </tr>\n",
              "    <tr>\n",
              "      <th>2</th>\n",
              "      <td>JAY</td>\n",
              "      <td>FEDERALIST No. 3 The Same Subject Continued (C...</td>\n",
              "    </tr>\n",
              "    <tr>\n",
              "      <th>3</th>\n",
              "      <td>JAY</td>\n",
              "      <td>FEDERALIST No. 4 The Same Subject Continued (C...</td>\n",
              "    </tr>\n",
              "    <tr>\n",
              "      <th>4</th>\n",
              "      <td>JAY</td>\n",
              "      <td>FEDERALIST No. 5 The Same Subject Continued (C...</td>\n",
              "    </tr>\n",
              "  </tbody>\n",
              "</table>\n",
              "</div>\n",
              "      <button class=\"colab-df-convert\" onclick=\"convertToInteractive('df-d3ff6fb9-d496-4fa3-bb65-012d5f06bf35')\"\n",
              "              title=\"Convert this dataframe to an interactive table.\"\n",
              "              style=\"display:none;\">\n",
              "        \n",
              "  <svg xmlns=\"http://www.w3.org/2000/svg\" height=\"24px\"viewBox=\"0 0 24 24\"\n",
              "       width=\"24px\">\n",
              "    <path d=\"M0 0h24v24H0V0z\" fill=\"none\"/>\n",
              "    <path d=\"M18.56 5.44l.94 2.06.94-2.06 2.06-.94-2.06-.94-.94-2.06-.94 2.06-2.06.94zm-11 1L8.5 8.5l.94-2.06 2.06-.94-2.06-.94L8.5 2.5l-.94 2.06-2.06.94zm10 10l.94 2.06.94-2.06 2.06-.94-2.06-.94-.94-2.06-.94 2.06-2.06.94z\"/><path d=\"M17.41 7.96l-1.37-1.37c-.4-.4-.92-.59-1.43-.59-.52 0-1.04.2-1.43.59L10.3 9.45l-7.72 7.72c-.78.78-.78 2.05 0 2.83L4 21.41c.39.39.9.59 1.41.59.51 0 1.02-.2 1.41-.59l7.78-7.78 2.81-2.81c.8-.78.8-2.07 0-2.86zM5.41 20L4 18.59l7.72-7.72 1.47 1.35L5.41 20z\"/>\n",
              "  </svg>\n",
              "      </button>\n",
              "      \n",
              "  <style>\n",
              "    .colab-df-container {\n",
              "      display:flex;\n",
              "      flex-wrap:wrap;\n",
              "      gap: 12px;\n",
              "    }\n",
              "\n",
              "    .colab-df-convert {\n",
              "      background-color: #E8F0FE;\n",
              "      border: none;\n",
              "      border-radius: 50%;\n",
              "      cursor: pointer;\n",
              "      display: none;\n",
              "      fill: #1967D2;\n",
              "      height: 32px;\n",
              "      padding: 0 0 0 0;\n",
              "      width: 32px;\n",
              "    }\n",
              "\n",
              "    .colab-df-convert:hover {\n",
              "      background-color: #E2EBFA;\n",
              "      box-shadow: 0px 1px 2px rgba(60, 64, 67, 0.3), 0px 1px 3px 1px rgba(60, 64, 67, 0.15);\n",
              "      fill: #174EA6;\n",
              "    }\n",
              "\n",
              "    [theme=dark] .colab-df-convert {\n",
              "      background-color: #3B4455;\n",
              "      fill: #D2E3FC;\n",
              "    }\n",
              "\n",
              "    [theme=dark] .colab-df-convert:hover {\n",
              "      background-color: #434B5C;\n",
              "      box-shadow: 0px 1px 3px 1px rgba(0, 0, 0, 0.15);\n",
              "      filter: drop-shadow(0px 1px 2px rgba(0, 0, 0, 0.3));\n",
              "      fill: #FFFFFF;\n",
              "    }\n",
              "  </style>\n",
              "\n",
              "      <script>\n",
              "        const buttonEl =\n",
              "          document.querySelector('#df-d3ff6fb9-d496-4fa3-bb65-012d5f06bf35 button.colab-df-convert');\n",
              "        buttonEl.style.display =\n",
              "          google.colab.kernel.accessAllowed ? 'block' : 'none';\n",
              "\n",
              "        async function convertToInteractive(key) {\n",
              "          const element = document.querySelector('#df-d3ff6fb9-d496-4fa3-bb65-012d5f06bf35');\n",
              "          const dataTable =\n",
              "            await google.colab.kernel.invokeFunction('convertToInteractive',\n",
              "                                                     [key], {});\n",
              "          if (!dataTable) return;\n",
              "\n",
              "          const docLinkHtml = 'Like what you see? Visit the ' +\n",
              "            '<a target=\"_blank\" href=https://colab.research.google.com/notebooks/data_table.ipynb>data table notebook</a>'\n",
              "            + ' to learn more about interactive tables.';\n",
              "          element.innerHTML = '';\n",
              "          dataTable['output_type'] = 'display_data';\n",
              "          await google.colab.output.renderOutput(dataTable, element);\n",
              "          const docLink = document.createElement('div');\n",
              "          docLink.innerHTML = docLinkHtml;\n",
              "          element.appendChild(docLink);\n",
              "        }\n",
              "      </script>\n",
              "    </div>\n",
              "  </div>\n",
              "  "
            ]
          },
          "metadata": {},
          "execution_count": 104
        }
      ]
    },
    {
      "cell_type": "code",
      "source": [
        "# display counts by author\n",
        "df.groupby(['author'])['author'].count()"
      ],
      "metadata": {
        "colab": {
          "base_uri": "https://localhost:8080/"
        },
        "id": "dy0qsuI4sTkC",
        "outputId": "573a18c6-4b6a-4766-a92d-7db547fdc185"
      },
      "execution_count": null,
      "outputs": [
        {
          "output_type": "execute_result",
          "data": {
            "text/plain": [
              "author\n",
              "HAMILTON                49\n",
              "HAMILTON AND MADISON     3\n",
              "HAMILTON OR MADISON     11\n",
              "JAY                      5\n",
              "MADISON                 15\n",
              "Name: author, dtype: int64"
            ]
          },
          "metadata": {},
          "execution_count": 105
        }
      ]
    },
    {
      "cell_type": "markdown",
      "source": [
        "2. Divide into train and test, with 80% in train. Use random state 1234. Display the shape of train and\n",
        "test."
      ],
      "metadata": {
        "id": "uWPDt2f8Jf_g"
      }
    },
    {
      "cell_type": "code",
      "source": [
        "from sklearn.model_selection import train_test_split\n",
        "\n",
        "X = df.text # features\n",
        "y = df.author # targets\n",
        "\n",
        "# divide data frame into train (80%) and test (20%) with random state 1234\n",
        "X_train, X_test, y_train, y_test = train_test_split(X, y, test_size=0.2, \n",
        "                                                    train_size=0.8, \n",
        "                                                    random_state=1234)\n",
        "\n",
        "# display shape of train and test\n",
        "print('Train shape:')\n",
        "print(X_train.shape)\n",
        "print('\\nTest shape:')\n",
        "print(X_test.shape)\n"
      ],
      "metadata": {
        "colab": {
          "base_uri": "https://localhost:8080/"
        },
        "id": "iC8noMlutHA0",
        "outputId": "4769f52b-d659-48ab-c4e8-f1761fc16276"
      },
      "execution_count": null,
      "outputs": [
        {
          "output_type": "stream",
          "name": "stdout",
          "text": [
            "Train shape:\n",
            "(66,)\n",
            "\n",
            "Test shape:\n",
            "(17,)\n"
          ]
        }
      ]
    },
    {
      "cell_type": "markdown",
      "source": [
        "3. Process the text by removing stop words and performing tf-idf vectorization, fit to the training data\n",
        "only, and applied to train and test. Output the training set shape and the test set shape."
      ],
      "metadata": {
        "id": "x9Adtfkf1jmO"
      }
    },
    {
      "cell_type": "code",
      "source": [
        "import nltk\n",
        "from nltk.corpus import stopwords\n",
        "from nltk.tokenize import word_tokenize\n",
        "from sklearn.feature_extraction.text import TfidfVectorizer\n",
        "\n",
        "# tf-idf vectorization\n",
        "vectorizer = TfidfVectorizer(stop_words=set(stopwords.words('english')))\n",
        "\n",
        "# fit to the training data only\n",
        "X_train1 = vectorizer.fit_transform(X_train)\n",
        "\n",
        "# # apply to train and test\n",
        "X_test1 = vectorizer.transform(X_test)\n",
        "\n",
        "# output train and test set shape\n",
        "print('Train shape:', X_train1.shape)\n",
        "print(X_train1.toarray())\n",
        "print('\\nTest shape:', X_test1.shape)\n",
        "print(X_test1.toarray())"
      ],
      "metadata": {
        "colab": {
          "base_uri": "https://localhost:8080/"
        },
        "id": "te7l7otLwHDk",
        "outputId": "330b87b3-c98f-443e-e20c-7fe53938c318"
      },
      "execution_count": null,
      "outputs": [
        {
          "output_type": "stream",
          "name": "stdout",
          "text": [
            "Train shape: (66, 7876)\n",
            "[[0.         0.         0.02956872 ... 0.         0.         0.        ]\n",
            " [0.         0.         0.         ... 0.         0.         0.        ]\n",
            " [0.         0.         0.         ... 0.         0.         0.        ]\n",
            " ...\n",
            " [0.         0.         0.         ... 0.         0.         0.        ]\n",
            " [0.         0.         0.         ... 0.         0.         0.        ]\n",
            " [0.         0.         0.         ... 0.02275824 0.         0.        ]]\n",
            "\n",
            "Test shape: (17, 7876)\n",
            "[[0.         0.         0.         ... 0.         0.         0.        ]\n",
            " [0.         0.         0.         ... 0.02314673 0.         0.        ]\n",
            " [0.         0.         0.         ... 0.         0.         0.        ]\n",
            " ...\n",
            " [0.         0.         0.         ... 0.         0.         0.        ]\n",
            " [0.         0.         0.         ... 0.         0.         0.        ]\n",
            " [0.         0.         0.         ... 0.         0.         0.        ]]\n"
          ]
        }
      ]
    },
    {
      "cell_type": "markdown",
      "source": [
        "4. Try a Bernoulli Naïve Bayes model. The accuracy on the test set is 58%."
      ],
      "metadata": {
        "id": "yjHXjsH5JmOd"
      }
    },
    {
      "cell_type": "code",
      "source": [
        "from sklearn.naive_bayes import BernoulliNB\n",
        "\n",
        "# try a Bernoulli Naïve Bayes model\n",
        "naive_bayes = BernoulliNB()\n",
        "naive_bayes.fit(X_train1, y_train)"
      ],
      "metadata": {
        "colab": {
          "base_uri": "https://localhost:8080/"
        },
        "id": "6um7FNgmDncW",
        "outputId": "39cb74cf-476b-460f-ab48-27c86e3da6d4"
      },
      "execution_count": null,
      "outputs": [
        {
          "output_type": "execute_result",
          "data": {
            "text/plain": [
              "BernoulliNB()"
            ]
          },
          "metadata": {},
          "execution_count": 108
        }
      ]
    },
    {
      "cell_type": "code",
      "source": [
        "from sklearn.metrics import confusion_matrix\n",
        "from sklearn.metrics import accuracy_score\n",
        "\n",
        "# make predictions on test set\n",
        "pred = naive_bayes.predict(X_test1)\n",
        "\n",
        "# print confusion matrix and accuracy\n",
        "print(confusion_matrix(y_test, pred))\n",
        "print('accuracy score: ', accuracy_score(y_test, pred))"
      ],
      "metadata": {
        "colab": {
          "base_uri": "https://localhost:8080/"
        },
        "id": "xg-IfP3HFYxk",
        "outputId": "67723251-c066-4181-e0f8-edde1a12ced5"
      },
      "execution_count": null,
      "outputs": [
        {
          "output_type": "stream",
          "name": "stdout",
          "text": [
            "[[10  0  0  0]\n",
            " [ 3  0  0  0]\n",
            " [ 2  0  0  0]\n",
            " [ 2  0  0  0]]\n",
            "accuracy score:  0.5882352941176471\n"
          ]
        }
      ]
    },
    {
      "cell_type": "markdown",
      "source": [
        "5. The results from step 4 will be disappointing. The classifier just guessed the predominant class,\n",
        "Hamilton, every time. Looking at the train data shape above, there are 7876 unique words in the\n",
        "vocabulary. This may be too much, and many of those words may not be helpful. Redo the\n",
        "vectorization with max_features option set to use only the 1000 most frequent words. In addition to\n",
        "the words, add bigrams as a feature. Try Naïve Bayes again on the new train/test vectors and\n",
        "compare your results."
      ],
      "metadata": {
        "id": "xTOzI1huFyIs"
      }
    },
    {
      "cell_type": "code",
      "source": [
        "# redo vectorization with max_features=1000, include unigrams and bigrams\n",
        "vectorizer2 = TfidfVectorizer(stop_words=set(stopwords.words('english')), \n",
        "                              max_features=1000, ngram_range=(1,2))\n",
        "\n",
        "# fit to the training data only\n",
        "X_train2 = vectorizer2.fit_transform(X_train)\n",
        "\n",
        "# # apply to train and test\n",
        "X_test2 = vectorizer2.transform(X_test)\n",
        "\n",
        "# output train and test set shape\n",
        "print('Train shape:', X_train2.shape)\n",
        "print('Test shape:', X_test2.shape)\n",
        "\n",
        "# redo bernoulli naive bayes model\n",
        "naive_bayes2 = BernoulliNB()\n",
        "naive_bayes2.fit(X_train2, y_train)"
      ],
      "metadata": {
        "colab": {
          "base_uri": "https://localhost:8080/"
        },
        "id": "lKxnGTlNFz5b",
        "outputId": "c433e72c-2799-49ed-8461-925eb4b1fb1d"
      },
      "execution_count": null,
      "outputs": [
        {
          "output_type": "stream",
          "name": "stdout",
          "text": [
            "Train shape: (66, 1000)\n",
            "Test shape: (17, 1000)\n",
            "[[10  0  0  0]\n",
            " [ 0  3  0  0]\n",
            " [ 1  0  1  0]\n",
            " [ 0  0  0  2]]\n",
            "accuracy score:  0.9411764705882353\n"
          ]
        }
      ]
    },
    {
      "cell_type": "code",
      "source": [
        "# make predictions on test set\n",
        "pred2 = naive_bayes2.predict(X_test2)\n",
        "\n",
        "# print confusion matrix and accuracy\n",
        "print(confusion_matrix(y_test, pred2))\n",
        "print('accuracy score: ', accuracy_score(y_test, pred2))"
      ],
      "metadata": {
        "colab": {
          "base_uri": "https://localhost:8080/"
        },
        "id": "OZV2KTNlJTNS",
        "outputId": "6706c301-eaaa-49a7-bf55-e4f683967494"
      },
      "execution_count": null,
      "outputs": [
        {
          "output_type": "stream",
          "name": "stdout",
          "text": [
            "[[10  0  0  0]\n",
            " [ 0  3  0  0]\n",
            " [ 1  0  1  0]\n",
            " [ 0  0  0  2]]\n",
            "accuracy score:  0.9411764705882353\n"
          ]
        }
      ]
    },
    {
      "cell_type": "markdown",
      "source": [
        "6. Try logistic regression. Adjust at least one parameter in the LogisticRegression() model to see if you\n",
        "can improve results over having no parameters. Results were improved by changing the class_weight to balanced.\n",
        "\n"
      ],
      "metadata": {
        "id": "_pfh9UhsJYDM"
      }
    },
    {
      "cell_type": "code",
      "source": [
        "from sklearn.linear_model import LogisticRegression\n",
        "\n",
        "# no parameters\n",
        "log_reg = LogisticRegression()\n",
        "log_reg.fit(X_train2, y_train)\n",
        "\n",
        "pred3 = log_reg.predict(X_test2)\n",
        "print(confusion_matrix(y_test, pred3))\n",
        "print('accuracy score: ', accuracy_score(y_test, pred3))"
      ],
      "metadata": {
        "colab": {
          "base_uri": "https://localhost:8080/"
        },
        "id": "unxoAnUOJ8LH",
        "outputId": "d9966aa3-8071-4c71-874e-a92aaa5e418a"
      },
      "execution_count": null,
      "outputs": [
        {
          "output_type": "stream",
          "name": "stdout",
          "text": [
            "[[10  0  0  0]\n",
            " [ 3  0  0  0]\n",
            " [ 2  0  0  0]\n",
            " [ 2  0  0  0]]\n",
            "accuracy score:  0.5882352941176471\n"
          ]
        }
      ]
    },
    {
      "cell_type": "code",
      "source": [
        "# adjust parameters\n",
        "log_reg2 = LogisticRegression(class_weight='balanced')\n",
        "log_reg2.fit(X_train2, y_train)\n",
        "\n",
        "pred4 = log_reg2.predict(X_test2)\n",
        "print(confusion_matrix(y_test, pred4))\n",
        "print('accuracy score: ', accuracy_score(y_test, pred4))"
      ],
      "metadata": {
        "colab": {
          "base_uri": "https://localhost:8080/"
        },
        "id": "rtW7401CMT-o",
        "outputId": "e739089b-562e-462f-bd94-e08d7c5ff0b8"
      },
      "execution_count": null,
      "outputs": [
        {
          "output_type": "stream",
          "name": "stdout",
          "text": [
            "[[10  0  0  0]\n",
            " [ 0  2  0  1]\n",
            " [ 1  0  1  0]\n",
            " [ 1  1  0  0]]\n",
            "accuracy score:  0.7647058823529411\n"
          ]
        }
      ]
    },
    {
      "cell_type": "markdown",
      "source": [
        "7. Try a neural network. Try different topologies until you get good results. The final accuracy is 88%."
      ],
      "metadata": {
        "id": "JidaHBPBNWbu"
      }
    },
    {
      "cell_type": "code",
      "source": [
        "from sklearn.neural_network import MLPClassifier\n",
        "\n",
        "nn = MLPClassifier(hidden_layer_sizes=(9, 5), max_iter=500, \n",
        "                   solver='lbfgs')"
      ],
      "metadata": {
        "colab": {
          "base_uri": "https://localhost:8080/",
          "height": 0
        },
        "id": "qoYVcgpENZgk",
        "outputId": "39df1cfb-676d-47db-8996-7280107f532a"
      },
      "execution_count": 219,
      "outputs": [
        {
          "output_type": "execute_result",
          "data": {
            "text/plain": [
              "MLPClassifier(hidden_layer_sizes=(9, 5), max_iter=500, solver='lbfgs')"
            ]
          },
          "metadata": {},
          "execution_count": 219
        }
      ]
    },
    {
      "cell_type": "code",
      "source": [
        "pred5 = nn.predict(X_test2)\n",
        "print(confusion_matrix(y_test, pred5))\n",
        "print('accuracy score: ', accuracy_score(y_test, pred5))"
      ],
      "metadata": {
        "colab": {
          "base_uri": "https://localhost:8080/",
          "height": 0
        },
        "id": "uokEdYwJN8-0",
        "outputId": "7051f27d-1464-43ea-c071-69a817e29b16"
      },
      "execution_count": 220,
      "outputs": [
        {
          "output_type": "stream",
          "name": "stdout",
          "text": [
            "[[10  0  0  0  0]\n",
            " [ 0  0  0  0  0]\n",
            " [ 0  0  3  0  0]\n",
            " [ 0  1  0  0  1]\n",
            " [ 0  0  0  0  2]]\n",
            "accuracy score:  0.8823529411764706\n"
          ]
        }
      ]
    }
  ]
}